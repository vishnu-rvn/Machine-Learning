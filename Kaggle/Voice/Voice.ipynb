{
 "cells": [
  {
   "cell_type": "code",
   "execution_count": 2,
   "metadata": {},
   "outputs": [],
   "source": [
    "import pandas as pd\n",
    "import seaborn as sns\n",
    "import matplotlib.pyplot as plt\n",
    "from sklearn.model_selection import train_test_split\n",
    "from sklearn.grid_search import GridSearchCV\n",
    "from sklearn.metrics import classification_report, confusion_matrix\n",
    "from sklearn.svm import SVC\n",
    "%matplotlib inline"
   ]
  },
  {
   "cell_type": "code",
   "execution_count": 4,
   "metadata": {
    "collapsed": true
   },
   "outputs": [],
   "source": [
    "df = pd.read_csv('voice.csv')"
   ]
  },
  {
   "cell_type": "code",
   "execution_count": 5,
   "metadata": {},
   "outputs": [
    {
     "data": {
      "text/html": [
       "<div>\n",
       "<style>\n",
       "    .dataframe thead tr:only-child th {\n",
       "        text-align: right;\n",
       "    }\n",
       "\n",
       "    .dataframe thead th {\n",
       "        text-align: left;\n",
       "    }\n",
       "\n",
       "    .dataframe tbody tr th {\n",
       "        vertical-align: top;\n",
       "    }\n",
       "</style>\n",
       "<table border=\"1\" class=\"dataframe\">\n",
       "  <thead>\n",
       "    <tr style=\"text-align: right;\">\n",
       "      <th></th>\n",
       "      <th>meanfreq</th>\n",
       "      <th>sd</th>\n",
       "      <th>median</th>\n",
       "      <th>Q25</th>\n",
       "      <th>Q75</th>\n",
       "      <th>IQR</th>\n",
       "      <th>skew</th>\n",
       "      <th>kurt</th>\n",
       "      <th>sp.ent</th>\n",
       "      <th>sfm</th>\n",
       "      <th>...</th>\n",
       "      <th>centroid</th>\n",
       "      <th>meanfun</th>\n",
       "      <th>minfun</th>\n",
       "      <th>maxfun</th>\n",
       "      <th>meandom</th>\n",
       "      <th>mindom</th>\n",
       "      <th>maxdom</th>\n",
       "      <th>dfrange</th>\n",
       "      <th>modindx</th>\n",
       "      <th>label</th>\n",
       "    </tr>\n",
       "  </thead>\n",
       "  <tbody>\n",
       "    <tr>\n",
       "      <th>0</th>\n",
       "      <td>0.059781</td>\n",
       "      <td>0.064241</td>\n",
       "      <td>0.032027</td>\n",
       "      <td>0.015071</td>\n",
       "      <td>0.090193</td>\n",
       "      <td>0.075122</td>\n",
       "      <td>12.863462</td>\n",
       "      <td>274.402906</td>\n",
       "      <td>0.893369</td>\n",
       "      <td>0.491918</td>\n",
       "      <td>...</td>\n",
       "      <td>0.059781</td>\n",
       "      <td>0.084279</td>\n",
       "      <td>0.015702</td>\n",
       "      <td>0.275862</td>\n",
       "      <td>0.007812</td>\n",
       "      <td>0.007812</td>\n",
       "      <td>0.007812</td>\n",
       "      <td>0.000000</td>\n",
       "      <td>0.000000</td>\n",
       "      <td>male</td>\n",
       "    </tr>\n",
       "    <tr>\n",
       "      <th>1</th>\n",
       "      <td>0.066009</td>\n",
       "      <td>0.067310</td>\n",
       "      <td>0.040229</td>\n",
       "      <td>0.019414</td>\n",
       "      <td>0.092666</td>\n",
       "      <td>0.073252</td>\n",
       "      <td>22.423285</td>\n",
       "      <td>634.613855</td>\n",
       "      <td>0.892193</td>\n",
       "      <td>0.513724</td>\n",
       "      <td>...</td>\n",
       "      <td>0.066009</td>\n",
       "      <td>0.107937</td>\n",
       "      <td>0.015826</td>\n",
       "      <td>0.250000</td>\n",
       "      <td>0.009014</td>\n",
       "      <td>0.007812</td>\n",
       "      <td>0.054688</td>\n",
       "      <td>0.046875</td>\n",
       "      <td>0.052632</td>\n",
       "      <td>male</td>\n",
       "    </tr>\n",
       "    <tr>\n",
       "      <th>2</th>\n",
       "      <td>0.077316</td>\n",
       "      <td>0.083829</td>\n",
       "      <td>0.036718</td>\n",
       "      <td>0.008701</td>\n",
       "      <td>0.131908</td>\n",
       "      <td>0.123207</td>\n",
       "      <td>30.757155</td>\n",
       "      <td>1024.927705</td>\n",
       "      <td>0.846389</td>\n",
       "      <td>0.478905</td>\n",
       "      <td>...</td>\n",
       "      <td>0.077316</td>\n",
       "      <td>0.098706</td>\n",
       "      <td>0.015656</td>\n",
       "      <td>0.271186</td>\n",
       "      <td>0.007990</td>\n",
       "      <td>0.007812</td>\n",
       "      <td>0.015625</td>\n",
       "      <td>0.007812</td>\n",
       "      <td>0.046512</td>\n",
       "      <td>male</td>\n",
       "    </tr>\n",
       "    <tr>\n",
       "      <th>3</th>\n",
       "      <td>0.151228</td>\n",
       "      <td>0.072111</td>\n",
       "      <td>0.158011</td>\n",
       "      <td>0.096582</td>\n",
       "      <td>0.207955</td>\n",
       "      <td>0.111374</td>\n",
       "      <td>1.232831</td>\n",
       "      <td>4.177296</td>\n",
       "      <td>0.963322</td>\n",
       "      <td>0.727232</td>\n",
       "      <td>...</td>\n",
       "      <td>0.151228</td>\n",
       "      <td>0.088965</td>\n",
       "      <td>0.017798</td>\n",
       "      <td>0.250000</td>\n",
       "      <td>0.201497</td>\n",
       "      <td>0.007812</td>\n",
       "      <td>0.562500</td>\n",
       "      <td>0.554688</td>\n",
       "      <td>0.247119</td>\n",
       "      <td>male</td>\n",
       "    </tr>\n",
       "    <tr>\n",
       "      <th>4</th>\n",
       "      <td>0.135120</td>\n",
       "      <td>0.079146</td>\n",
       "      <td>0.124656</td>\n",
       "      <td>0.078720</td>\n",
       "      <td>0.206045</td>\n",
       "      <td>0.127325</td>\n",
       "      <td>1.101174</td>\n",
       "      <td>4.333713</td>\n",
       "      <td>0.971955</td>\n",
       "      <td>0.783568</td>\n",
       "      <td>...</td>\n",
       "      <td>0.135120</td>\n",
       "      <td>0.106398</td>\n",
       "      <td>0.016931</td>\n",
       "      <td>0.266667</td>\n",
       "      <td>0.712812</td>\n",
       "      <td>0.007812</td>\n",
       "      <td>5.484375</td>\n",
       "      <td>5.476562</td>\n",
       "      <td>0.208274</td>\n",
       "      <td>male</td>\n",
       "    </tr>\n",
       "  </tbody>\n",
       "</table>\n",
       "<p>5 rows × 21 columns</p>\n",
       "</div>"
      ],
      "text/plain": [
       "   meanfreq        sd    median       Q25       Q75       IQR       skew  \\\n",
       "0  0.059781  0.064241  0.032027  0.015071  0.090193  0.075122  12.863462   \n",
       "1  0.066009  0.067310  0.040229  0.019414  0.092666  0.073252  22.423285   \n",
       "2  0.077316  0.083829  0.036718  0.008701  0.131908  0.123207  30.757155   \n",
       "3  0.151228  0.072111  0.158011  0.096582  0.207955  0.111374   1.232831   \n",
       "4  0.135120  0.079146  0.124656  0.078720  0.206045  0.127325   1.101174   \n",
       "\n",
       "          kurt    sp.ent       sfm  ...    centroid   meanfun    minfun  \\\n",
       "0   274.402906  0.893369  0.491918  ...    0.059781  0.084279  0.015702   \n",
       "1   634.613855  0.892193  0.513724  ...    0.066009  0.107937  0.015826   \n",
       "2  1024.927705  0.846389  0.478905  ...    0.077316  0.098706  0.015656   \n",
       "3     4.177296  0.963322  0.727232  ...    0.151228  0.088965  0.017798   \n",
       "4     4.333713  0.971955  0.783568  ...    0.135120  0.106398  0.016931   \n",
       "\n",
       "     maxfun   meandom    mindom    maxdom   dfrange   modindx  label  \n",
       "0  0.275862  0.007812  0.007812  0.007812  0.000000  0.000000   male  \n",
       "1  0.250000  0.009014  0.007812  0.054688  0.046875  0.052632   male  \n",
       "2  0.271186  0.007990  0.007812  0.015625  0.007812  0.046512   male  \n",
       "3  0.250000  0.201497  0.007812  0.562500  0.554688  0.247119   male  \n",
       "4  0.266667  0.712812  0.007812  5.484375  5.476562  0.208274   male  \n",
       "\n",
       "[5 rows x 21 columns]"
      ]
     },
     "execution_count": 5,
     "metadata": {},
     "output_type": "execute_result"
    }
   ],
   "source": [
    "df.head()"
   ]
  },
  {
   "cell_type": "code",
   "execution_count": 6,
   "metadata": {},
   "outputs": [
    {
     "name": "stdout",
     "output_type": "stream",
     "text": [
      "<class 'pandas.core.frame.DataFrame'>\n",
      "RangeIndex: 3168 entries, 0 to 3167\n",
      "Data columns (total 21 columns):\n",
      "meanfreq    3168 non-null float64\n",
      "sd          3168 non-null float64\n",
      "median      3168 non-null float64\n",
      "Q25         3168 non-null float64\n",
      "Q75         3168 non-null float64\n",
      "IQR         3168 non-null float64\n",
      "skew        3168 non-null float64\n",
      "kurt        3168 non-null float64\n",
      "sp.ent      3168 non-null float64\n",
      "sfm         3168 non-null float64\n",
      "mode        3168 non-null float64\n",
      "centroid    3168 non-null float64\n",
      "meanfun     3168 non-null float64\n",
      "minfun      3168 non-null float64\n",
      "maxfun      3168 non-null float64\n",
      "meandom     3168 non-null float64\n",
      "mindom      3168 non-null float64\n",
      "maxdom      3168 non-null float64\n",
      "dfrange     3168 non-null float64\n",
      "modindx     3168 non-null float64\n",
      "label       3168 non-null object\n",
      "dtypes: float64(20), object(1)\n",
      "memory usage: 519.8+ KB\n"
     ]
    }
   ],
   "source": [
    "df.info()"
   ]
  },
  {
   "cell_type": "code",
   "execution_count": 7,
   "metadata": {},
   "outputs": [
    {
     "data": {
      "text/plain": [
       "Index(['meanfreq', 'sd', 'median', 'Q25', 'Q75', 'IQR', 'skew', 'kurt',\n",
       "       'sp.ent', 'sfm', 'mode', 'centroid', 'meanfun', 'minfun', 'maxfun',\n",
       "       'meandom', 'mindom', 'maxdom', 'dfrange', 'modindx', 'label'],\n",
       "      dtype='object')"
      ]
     },
     "execution_count": 7,
     "metadata": {},
     "output_type": "execute_result"
    }
   ],
   "source": [
    "df.columns"
   ]
  },
  {
   "cell_type": "code",
   "execution_count": 8,
   "metadata": {},
   "outputs": [
    {
     "data": {
      "text/plain": [
       "<matplotlib.axes._subplots.AxesSubplot at 0x7f06100151d0>"
      ]
     },
     "execution_count": 8,
     "metadata": {},
     "output_type": "execute_result"
    },
    {
     "data": {
      "image/png": "[encoded data removed]",
      "text/plain": [
       "<matplotlib.figure.Figure at 0x7f0650fb3c18>"
      ]
     },
     "metadata": {},
     "output_type": "display_data"
    }
   ],
   "source": [
    "sns.distplot(df[df['label'] == 'male']['meanfreq'], kde = False)\n",
    "sns.distplot(df[df['label'] == 'female']['meanfreq'], kde = False)"
   ]
  },
  {
   "cell_type": "code",
   "execution_count": 9,
   "metadata": {
    "collapsed": true
   },
   "outputs": [],
   "source": [
    "X = df.drop('label', axis = 1)\n",
    "y = df['label']\n",
    "X_train, X_test, y_train, y_test = train_test_split(X, y, test_size = 0.3, random_state = 45)"
   ]
  },
  {
   "cell_type": "code",
   "execution_count": 10,
   "metadata": {
    "collapsed": true
   },
   "outputs": [],
   "source": [
    "model = SVC()"
   ]
  },
  {
   "cell_type": "code",
   "execution_count": 11,
   "metadata": {},
   "outputs": [
    {
     "data": {
      "text/plain": [
       "SVC(C=1.0, cache_size=200, class_weight=None, coef0=0.0,\n",
       "  decision_function_shape=None, degree=3, gamma='auto', kernel='rbf',\n",
       "  max_iter=-1, probability=False, random_state=None, shrinking=True,\n",
       "  tol=0.001, verbose=False)"
      ]
     },
     "execution_count": 11,
     "metadata": {},
     "output_type": "execute_result"
    }
   ],
   "source": [
    "model.fit(X_train, y_train)"
   ]
  },
  {
   "cell_type": "code",
   "execution_count": 12,
   "metadata": {
    "collapsed": true
   },
   "outputs": [],
   "source": [
    "prediction = model.predict(X_test)"
   ]
  },
  {
   "cell_type": "code",
   "execution_count": 13,
   "metadata": {},
   "outputs": [
    {
     "name": "stdout",
     "output_type": "stream",
     "text": [
      "             precision    recall  f1-score   support\n",
      "\n",
      "     female       0.77      0.65      0.70       486\n",
      "       male       0.68      0.80      0.74       465\n",
      "\n",
      "avg / total       0.73      0.72      0.72       951\n",
      "\n",
      "[[314 172]\n",
      " [ 94 371]]\n"
     ]
    }
   ],
   "source": [
    "print(classification_report(y_test,prediction))\n",
    "print(confusion_matrix(y_test, prediction))"
   ]
  },
  {
   "cell_type": "code",
   "execution_count": 14,
   "metadata": {
    "collapsed": true
   },
   "outputs": [],
   "source": [
    "param_grid = {'C':[1,10,100,1000],'gamma':[1,0.1,0.001,0.0001], 'kernel':['linear','rbf']}"
   ]
  },
  {
   "cell_type": "code",
   "execution_count": 15,
   "metadata": {
    "collapsed": true
   },
   "outputs": [],
   "source": [
    "grid = GridSearchCV(SVC(),param_grid,refit = True, verbose=2)"
   ]
  },
  {
   "cell_type": "code",
   "execution_count": 16,
   "metadata": {
    "scrolled": true
   },
   "outputs": [
    {
     "name": "stdout",
     "output_type": "stream",
     "text": [
      "Fitting 3 folds for each of 32 candidates, totalling 96 fits\n",
      "[CV] gamma=1, kernel=linear, C=1 .....................................\n",
      "[CV] ............................ gamma=1, kernel=linear, C=1 -   4.9s\n",
      "[CV] gamma=1, kernel=linear, C=1 .....................................\n"
     ]
    },
    {
     "name": "stderr",
     "output_type": "stream",
     "text": [
      "[Parallel(n_jobs=1)]: Done   1 out of   1 | elapsed:    4.9s remaining:    0.0s\n"
     ]
    },
    {
     "name": "stdout",
     "output_type": "stream",
     "text": [
      "[CV] ............................ gamma=1, kernel=linear, C=1 -   3.6s\n",
      "[CV] gamma=1, kernel=linear, C=1 .....................................\n",
      "[CV] ............................ gamma=1, kernel=linear, C=1 -   1.7s\n",
      "[CV] gamma=1, kernel=rbf, C=1 ........................................\n",
      "[CV] ............................... gamma=1, kernel=rbf, C=1 -   0.2s\n",
      "[CV] gamma=1, kernel=rbf, C=1 ........................................\n",
      "[CV] ............................... gamma=1, kernel=rbf, C=1 -   0.2s\n",
      "[CV] gamma=1, kernel=rbf, C=1 ........................................\n",
      "[CV] ............................... gamma=1, kernel=rbf, C=1 -   0.2s\n",
      "[CV] gamma=0.1, kernel=linear, C=1 ...................................\n",
      "[CV] .......................... gamma=0.1, kernel=linear, C=1 -   4.9s\n",
      "[CV] gamma=0.1, kernel=linear, C=1 ...................................\n",
      "[CV] .......................... gamma=0.1, kernel=linear, C=1 -   3.6s\n",
      "[CV] gamma=0.1, kernel=linear, C=1 ...................................\n",
      "[CV] .......................... gamma=0.1, kernel=linear, C=1 -   1.7s\n",
      "[CV] gamma=0.1, kernel=rbf, C=1 ......................................\n",
      "[CV] ............................. gamma=0.1, kernel=rbf, C=1 -   0.1s\n",
      "[CV] gamma=0.1, kernel=rbf, C=1 ......................................\n",
      "[CV] ............................. gamma=0.1, kernel=rbf, C=1 -   0.2s\n",
      "[CV] gamma=0.1, kernel=rbf, C=1 ......................................\n",
      "[CV] ............................. gamma=0.1, kernel=rbf, C=1 -   0.2s\n",
      "[CV] gamma=0.001, kernel=linear, C=1 .................................\n",
      "[CV] ........................ gamma=0.001, kernel=linear, C=1 -   5.1s\n",
      "[CV] gamma=0.001, kernel=linear, C=1 .................................\n",
      "[CV] ........................ gamma=0.001, kernel=linear, C=1 -   3.6s\n",
      "[CV] gamma=0.001, kernel=linear, C=1 .................................\n",
      "[CV] ........................ gamma=0.001, kernel=linear, C=1 -   1.8s\n",
      "[CV] gamma=0.001, kernel=rbf, C=1 ....................................\n",
      "[CV] ........................... gamma=0.001, kernel=rbf, C=1 -   0.2s\n",
      "[CV] gamma=0.001, kernel=rbf, C=1 ....................................\n",
      "[CV] ........................... gamma=0.001, kernel=rbf, C=1 -   0.2s\n",
      "[CV] gamma=0.001, kernel=rbf, C=1 ....................................\n",
      "[CV] ........................... gamma=0.001, kernel=rbf, C=1 -   0.2s\n",
      "[CV] gamma=0.0001, kernel=linear, C=1 ................................\n",
      "[CV] ....................... gamma=0.0001, kernel=linear, C=1 -   5.0s\n",
      "[CV] gamma=0.0001, kernel=linear, C=1 ................................\n",
      "[CV] ....................... gamma=0.0001, kernel=linear, C=1 -   3.7s\n",
      "[CV] gamma=0.0001, kernel=linear, C=1 ................................\n",
      "[CV] ....................... gamma=0.0001, kernel=linear, C=1 -   1.8s\n",
      "[CV] gamma=0.0001, kernel=rbf, C=1 ...................................\n",
      "[CV] .......................... gamma=0.0001, kernel=rbf, C=1 -   0.2s\n",
      "[CV] gamma=0.0001, kernel=rbf, C=1 ...................................\n",
      "[CV] .......................... gamma=0.0001, kernel=rbf, C=1 -   0.2s\n",
      "[CV] gamma=0.0001, kernel=rbf, C=1 ...................................\n",
      "[CV] .......................... gamma=0.0001, kernel=rbf, C=1 -   0.2s\n",
      "[CV] gamma=1, kernel=linear, C=10 ....................................\n",
      "[CV] ........................... gamma=1, kernel=linear, C=10 -   5.3s\n",
      "[CV] gamma=1, kernel=linear, C=10 ....................................\n",
      "[CV] ........................... gamma=1, kernel=linear, C=10 -   5.0s\n",
      "[CV] gamma=1, kernel=linear, C=10 ....................................\n",
      "[CV] ........................... gamma=1, kernel=linear, C=10 -  12.2s\n",
      "[CV] gamma=1, kernel=rbf, C=10 .......................................\n",
      "[CV] .............................. gamma=1, kernel=rbf, C=10 -   0.2s\n",
      "[CV] gamma=1, kernel=rbf, C=10 .......................................\n",
      "[CV] .............................. gamma=1, kernel=rbf, C=10 -   0.2s\n",
      "[CV] gamma=1, kernel=rbf, C=10 .......................................\n",
      "[CV] .............................. gamma=1, kernel=rbf, C=10 -   0.2s\n",
      "[CV] gamma=0.1, kernel=linear, C=10 ..................................\n",
      "[CV] ......................... gamma=0.1, kernel=linear, C=10 -   5.2s\n",
      "[CV] gamma=0.1, kernel=linear, C=10 ..................................\n",
      "[CV] ......................... gamma=0.1, kernel=linear, C=10 -   4.9s\n",
      "[CV] gamma=0.1, kernel=linear, C=10 ..................................\n",
      "[CV] ......................... gamma=0.1, kernel=linear, C=10 -  12.1s\n",
      "[CV] gamma=0.1, kernel=rbf, C=10 .....................................\n",
      "[CV] ............................ gamma=0.1, kernel=rbf, C=10 -   0.2s\n",
      "[CV] gamma=0.1, kernel=rbf, C=10 .....................................\n",
      "[CV] ............................ gamma=0.1, kernel=rbf, C=10 -   0.2s\n",
      "[CV] gamma=0.1, kernel=rbf, C=10 .....................................\n",
      "[CV] ............................ gamma=0.1, kernel=rbf, C=10 -   0.2s\n",
      "[CV] gamma=0.001, kernel=linear, C=10 ................................\n",
      "[CV] ....................... gamma=0.001, kernel=linear, C=10 -   5.3s\n",
      "[CV] gamma=0.001, kernel=linear, C=10 ................................\n",
      "[CV] ....................... gamma=0.001, kernel=linear, C=10 -   4.9s\n",
      "[CV] gamma=0.001, kernel=linear, C=10 ................................\n",
      "[CV] ....................... gamma=0.001, kernel=linear, C=10 -  12.2s\n",
      "[CV] gamma=0.001, kernel=rbf, C=10 ...................................\n",
      "[CV] .......................... gamma=0.001, kernel=rbf, C=10 -   0.2s\n",
      "[CV] gamma=0.001, kernel=rbf, C=10 ...................................\n",
      "[CV] .......................... gamma=0.001, kernel=rbf, C=10 -   0.2s\n",
      "[CV] gamma=0.001, kernel=rbf, C=10 ...................................\n",
      "[CV] .......................... gamma=0.001, kernel=rbf, C=10 -   0.2s\n",
      "[CV] gamma=0.0001, kernel=linear, C=10 ...............................\n",
      "[CV] ...................... gamma=0.0001, kernel=linear, C=10 -   5.2s\n",
      "[CV] gamma=0.0001, kernel=linear, C=10 ...............................\n",
      "[CV] ...................... gamma=0.0001, kernel=linear, C=10 -   4.9s\n",
      "[CV] gamma=0.0001, kernel=linear, C=10 ...............................\n",
      "[CV] ...................... gamma=0.0001, kernel=linear, C=10 -  12.2s\n",
      "[CV] gamma=0.0001, kernel=rbf, C=10 ..................................\n",
      "[CV] ......................... gamma=0.0001, kernel=rbf, C=10 -   0.2s\n",
      "[CV] gamma=0.0001, kernel=rbf, C=10 ..................................\n",
      "[CV] ......................... gamma=0.0001, kernel=rbf, C=10 -   0.2s\n",
      "[CV] gamma=0.0001, kernel=rbf, C=10 ..................................\n",
      "[CV] ......................... gamma=0.0001, kernel=rbf, C=10 -   0.2s\n",
      "[CV] gamma=1, kernel=linear, C=100 ...................................\n",
      "[CV] .......................... gamma=1, kernel=linear, C=100 -   9.7s\n",
      "[CV] gamma=1, kernel=linear, C=100 ...................................\n",
      "[CV] .......................... gamma=1, kernel=linear, C=100 -  34.1s\n",
      "[CV] gamma=1, kernel=linear, C=100 ...................................\n",
      "[CV] .......................... gamma=1, kernel=linear, C=100 -  44.4s\n",
      "[CV] gamma=1, kernel=rbf, C=100 ......................................\n",
      "[CV] ............................. gamma=1, kernel=rbf, C=100 -   0.3s\n",
      "[CV] gamma=1, kernel=rbf, C=100 ......................................\n",
      "[CV] ............................. gamma=1, kernel=rbf, C=100 -   0.3s\n",
      "[CV] gamma=1, kernel=rbf, C=100 ......................................\n",
      "[CV] ............................. gamma=1, kernel=rbf, C=100 -   0.3s\n",
      "[CV] gamma=0.1, kernel=linear, C=100 .................................\n",
      "[CV] ........................ gamma=0.1, kernel=linear, C=100 -   9.8s\n",
      "[CV] gamma=0.1, kernel=linear, C=100 .................................\n",
      "[CV] ........................ gamma=0.1, kernel=linear, C=100 -  33.8s\n",
      "[CV] gamma=0.1, kernel=linear, C=100 .................................\n",
      "[CV] ........................ gamma=0.1, kernel=linear, C=100 -  43.8s\n",
      "[CV] gamma=0.1, kernel=rbf, C=100 ....................................\n",
      "[CV] ........................... gamma=0.1, kernel=rbf, C=100 -   0.3s\n",
      "[CV] gamma=0.1, kernel=rbf, C=100 ....................................\n",
      "[CV] ........................... gamma=0.1, kernel=rbf, C=100 -   0.3s\n",
      "[CV] gamma=0.1, kernel=rbf, C=100 ....................................\n"
     ]
    },
    {
     "name": "stdout",
     "output_type": "stream",
     "text": [
      "[CV] ........................... gamma=0.1, kernel=rbf, C=100 -   0.3s\n",
      "[CV] gamma=0.001, kernel=linear, C=100 ...............................\n",
      "[CV] ...................... gamma=0.001, kernel=linear, C=100 -   9.8s\n",
      "[CV] gamma=0.001, kernel=linear, C=100 ...............................\n",
      "[CV] ...................... gamma=0.001, kernel=linear, C=100 -  33.6s\n",
      "[CV] gamma=0.001, kernel=linear, C=100 ...............................\n",
      "[CV] ...................... gamma=0.001, kernel=linear, C=100 -  44.1s\n",
      "[CV] gamma=0.001, kernel=rbf, C=100 ..................................\n",
      "[CV] ......................... gamma=0.001, kernel=rbf, C=100 -   0.2s\n",
      "[CV] gamma=0.001, kernel=rbf, C=100 ..................................\n",
      "[CV] ......................... gamma=0.001, kernel=rbf, C=100 -   0.2s\n",
      "[CV] gamma=0.001, kernel=rbf, C=100 ..................................\n",
      "[CV] ......................... gamma=0.001, kernel=rbf, C=100 -   0.2s\n",
      "[CV] gamma=0.0001, kernel=linear, C=100 ..............................\n",
      "[CV] ..................... gamma=0.0001, kernel=linear, C=100 -   9.7s\n",
      "[CV] gamma=0.0001, kernel=linear, C=100 ..............................\n",
      "[CV] ..................... gamma=0.0001, kernel=linear, C=100 -  33.5s\n",
      "[CV] gamma=0.0001, kernel=linear, C=100 ..............................\n",
      "[CV] ..................... gamma=0.0001, kernel=linear, C=100 -  44.6s\n",
      "[CV] gamma=0.0001, kernel=rbf, C=100 .................................\n",
      "[CV] ........................ gamma=0.0001, kernel=rbf, C=100 -   0.2s\n",
      "[CV] gamma=0.0001, kernel=rbf, C=100 .................................\n",
      "[CV] ........................ gamma=0.0001, kernel=rbf, C=100 -   0.2s\n",
      "[CV] gamma=0.0001, kernel=rbf, C=100 .................................\n",
      "[CV] ........................ gamma=0.0001, kernel=rbf, C=100 -   0.2s\n",
      "[CV] gamma=1, kernel=linear, C=1000 ..................................\n",
      "[CV] ......................... gamma=1, kernel=linear, C=1000 -  13.7s\n",
      "[CV] gamma=1, kernel=linear, C=1000 ..................................\n",
      "[CV] ......................... gamma=1, kernel=linear, C=1000 - 1.2min\n",
      "[CV] gamma=1, kernel=linear, C=1000 ..................................\n",
      "[CV] ......................... gamma=1, kernel=linear, C=1000 -  32.9s\n",
      "[CV] gamma=1, kernel=rbf, C=1000 .....................................\n",
      "[CV] ............................ gamma=1, kernel=rbf, C=1000 -   0.3s\n",
      "[CV] gamma=1, kernel=rbf, C=1000 .....................................\n",
      "[CV] ............................ gamma=1, kernel=rbf, C=1000 -   0.3s\n",
      "[CV] gamma=1, kernel=rbf, C=1000 .....................................\n",
      "[CV] ............................ gamma=1, kernel=rbf, C=1000 -   0.3s\n",
      "[CV] gamma=0.1, kernel=linear, C=1000 ................................\n",
      "[CV] ....................... gamma=0.1, kernel=linear, C=1000 -  13.7s\n",
      "[CV] gamma=0.1, kernel=linear, C=1000 ................................\n",
      "[CV] ....................... gamma=0.1, kernel=linear, C=1000 - 1.1min\n",
      "[CV] gamma=0.1, kernel=linear, C=1000 ................................\n",
      "[CV] ....................... gamma=0.1, kernel=linear, C=1000 -  33.1s\n",
      "[CV] gamma=0.1, kernel=rbf, C=1000 ...................................\n",
      "[CV] .......................... gamma=0.1, kernel=rbf, C=1000 -   0.5s\n",
      "[CV] gamma=0.1, kernel=rbf, C=1000 ...................................\n",
      "[CV] .......................... gamma=0.1, kernel=rbf, C=1000 -   0.5s\n",
      "[CV] gamma=0.1, kernel=rbf, C=1000 ...................................\n",
      "[CV] .......................... gamma=0.1, kernel=rbf, C=1000 -   0.5s\n",
      "[CV] gamma=0.001, kernel=linear, C=1000 ..............................\n",
      "[CV] ..................... gamma=0.001, kernel=linear, C=1000 -  13.7s\n",
      "[CV] gamma=0.001, kernel=linear, C=1000 ..............................\n",
      "[CV] ..................... gamma=0.001, kernel=linear, C=1000 - 1.1min\n",
      "[CV] gamma=0.001, kernel=linear, C=1000 ..............................\n",
      "[CV] ..................... gamma=0.001, kernel=linear, C=1000 -  32.9s\n",
      "[CV] gamma=0.001, kernel=rbf, C=1000 .................................\n",
      "[CV] ........................ gamma=0.001, kernel=rbf, C=1000 -   0.3s\n",
      "[CV] gamma=0.001, kernel=rbf, C=1000 .................................\n",
      "[CV] ........................ gamma=0.001, kernel=rbf, C=1000 -   0.2s\n",
      "[CV] gamma=0.001, kernel=rbf, C=1000 .................................\n",
      "[CV] ........................ gamma=0.001, kernel=rbf, C=1000 -   0.3s\n",
      "[CV] gamma=0.0001, kernel=linear, C=1000 .............................\n",
      "[CV] .................... gamma=0.0001, kernel=linear, C=1000 -  13.9s\n",
      "[CV] gamma=0.0001, kernel=linear, C=1000 .............................\n",
      "[CV] .................... gamma=0.0001, kernel=linear, C=1000 - 1.2min\n",
      "[CV] gamma=0.0001, kernel=linear, C=1000 .............................\n",
      "[CV] .................... gamma=0.0001, kernel=linear, C=1000 -  34.0s\n",
      "[CV] gamma=0.0001, kernel=rbf, C=1000 ................................\n",
      "[CV] ....................... gamma=0.0001, kernel=rbf, C=1000 -   0.2s\n",
      "[CV] gamma=0.0001, kernel=rbf, C=1000 ................................\n",
      "[CV] ....................... gamma=0.0001, kernel=rbf, C=1000 -   0.2s\n",
      "[CV] gamma=0.0001, kernel=rbf, C=1000 ................................\n",
      "[CV] ....................... gamma=0.0001, kernel=rbf, C=1000 -   0.2s\n"
     ]
    },
    {
     "name": "stderr",
     "output_type": "stream",
     "text": [
      "[Parallel(n_jobs=1)]: Done  96 out of  96 | elapsed: 15.9min finished\n"
     ]
    },
    {
     "data": {
      "text/plain": [
       "GridSearchCV(cv=None, error_score='raise',\n",
       "       estimator=SVC(C=1.0, cache_size=200, class_weight=None, coef0=0.0,\n",
       "  decision_function_shape=None, degree=3, gamma='auto', kernel='rbf',\n",
       "  max_iter=-1, probability=False, random_state=None, shrinking=True,\n",
       "  tol=0.001, verbose=False),\n",
       "       fit_params={}, iid=True, n_jobs=1,\n",
       "       param_grid={'gamma': [1, 0.1, 0.001, 0.0001], 'kernel': ['linear', 'rbf'], 'C': [1, 10, 100, 1000]},\n",
       "       pre_dispatch='2*n_jobs', refit=True, scoring=None, verbose=2)"
      ]
     },
     "execution_count": 16,
     "metadata": {},
     "output_type": "execute_result"
    }
   ],
   "source": [
    "grid.fit(X_train,y_train)"
   ]
  },
  {
   "cell_type": "code",
   "execution_count": 17,
   "metadata": {},
   "outputs": [
    {
     "data": {
      "text/plain": [
       "{'C': 10, 'gamma': 1, 'kernel': 'linear'}"
      ]
     },
     "execution_count": 17,
     "metadata": {},
     "output_type": "execute_result"
    }
   ],
   "source": [
    "grid.best_params_"
   ]
  },
  {
   "cell_type": "code",
   "execution_count": 19,
   "metadata": {
    "collapsed": true
   },
   "outputs": [],
   "source": [
    "predic = grid.predict(X_test)"
   ]
  },
  {
   "cell_type": "code",
   "execution_count": 20,
   "metadata": {},
   "outputs": [
    {
     "name": "stdout",
     "output_type": "stream",
     "text": [
      "             precision    recall  f1-score   support\n",
      "\n",
      "     female       0.97      0.97      0.97       486\n",
      "       male       0.97      0.97      0.97       465\n",
      "\n",
      "avg / total       0.97      0.97      0.97       951\n",
      "\n",
      "[[473  13]\n",
      " [ 13 452]]\n"
     ]
    }
   ],
   "source": [
    "print(classification_report(y_test,predic))\n",
    "print(confusion_matrix(y_test, predic))"
   ]
  },
  {
   "cell_type": "code",
   "execution_count": null,
   "metadata": {
    "collapsed": true
   },
   "outputs": [],
   "source": []
  }
 ],
 "metadata": {
  "kernelspec": {
   "display_name": "Python 3",
   "language": "python",
   "name": "python3"
  },
  "language_info": {
   "codemirror_mode": {
    "name": "ipython",
    "version": 3
   },
   "file_extension": ".py",
   "mimetype": "text/x-python",
   "name": "python",
   "nbconvert_exporter": "python",
   "pygments_lexer": "ipython3",
   "version": "3.5.2"
  }
 },
 "nbformat": 4,
 "nbformat_minor": 2
}
